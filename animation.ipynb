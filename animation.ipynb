version https://git-lfs.github.com/spec/v1
oid sha256:1a06c0d1fb1f949466fd572874af2a1f4d005fe88ee4a1307ee8646c9ff04c14
size 384940
