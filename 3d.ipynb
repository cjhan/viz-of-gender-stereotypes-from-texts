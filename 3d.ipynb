version https://git-lfs.github.com/spec/v1
oid sha256:38b6e2e0675f3fa7cf4043b28d4df7e08e73f8f1768ae3d28e891d93e144532f
size 949463
